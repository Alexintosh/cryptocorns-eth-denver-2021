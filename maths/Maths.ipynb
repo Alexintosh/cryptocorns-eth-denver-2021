{
 "cells": [
  {
   "cell_type": "markdown",
   "metadata": {},
   "source": [
    "### Uniswap swap formula\n",
    "$x\\cdot y \\leq (x + (1 - f)\\cdot\\Delta x)\\cdot(y - \\Delta y)$\n",
    "\n",
    "$\\Delta x = \\large\\frac{x\\cdot \\Delta y}{(y-\\Delta y)\\cdot(1-f)} = \\frac{m\\cdot x\\cdot \\Delta y}{(y-\\Delta y)\\cdot(m-m\\cdot f)}$\n",
    "\n",
    "### Uniswap dump formula\n",
    "$\\Delta y = \\large\\frac{-y\\cdot(2-f) + \\sqrt{y^2\\cdot(2-f)^2 - 4\\cdot(1-f)\\cdot(y^2-\\frac{k}{r})}}{2\\cdot(1 - f)}$\n",
    "  \n",
    "$\\Delta y = y \\cdot (\\sqrt\\frac{1}{r}-1)$\n",
    "### Comp target ratio formula\n",
    "#### Positive rebalance\n",
    "$r = \\large\\frac{p_{USDT}\\cdot(x_{USDT} + \\Delta x_{USDT})}{p_{ETH}\\cdot(y_{ETH} + \\Delta y_{ETH})}$"
   ]
  },
  {
   "cell_type": "code",
   "execution_count": 123,
   "metadata": {},
   "outputs": [],
   "source": [
    "raw_data = '''\n",
    "0x0000000000000000000000000000000000000000000000000000000000000100000000000000000000000\n",
    "000000000000000000000000000000000000000000000000000000000000000000000000000000000000a83fb0a237c6a9c3\n",
    "12584380000000000000000000000000000000000000000000000001bc17021cc84f67d00000000000000000000000000000\n",
    "00000000000000000000de0b6b3a733ffe20000000000000000000000000000000000000000000000000000000060fd1a000\n",
    "0000000000000000000000000000000000000000000000000000000000000000000000000000000000000000000000000000\n",
    "0000000000000000000000f454c00000000000000000000000000000000000000000000000000000000000000e0000000000\n",
    "00000000000000000000000000000000000000000000000000000a00000000000000000000000000000000000000000003cf\n",
    "8df79b35735ebfd50b60000000000000000000000000000000000000000000009a7b3f7277c6476b5ec00000000000000000\n",
    "00000000000000000000000000000afd007d66771213ace0000000000000000000000000000000000000000000000001bc17\n",
    "021cc84f67d000000000000000000000000000000000000000000000000000000000000001b44454255473a2064657465637\n",
    "46564204b20756e69206572726f720000000000\n",
    "'''\n",
    "debug_data = bytes.fromhex(''.join(raw_data.splitlines())[2:])"
   ]
  },
  {
   "cell_type": "code",
   "execution_count": 124,
   "metadata": {},
   "outputs": [],
   "source": [
    "def read_uint(message, word):\n",
    "    section = message[word*32:(word+1)*32]\n",
    "    return int.from_bytes(section, 'big')\n",
    "\n",
    "def read_bytes(message, word):\n",
    "    shift = read_uint(message, word)\n",
    "    length = read_uint(message, shift // 32)\n",
    "    return message[shift+32:shift + 32 + length]"
   ]
  },
  {
   "cell_type": "code",
   "execution_count": 125,
   "metadata": {},
   "outputs": [
    {
     "name": "stdout",
     "output_type": "stream",
     "text": [
      "b'DEBUG: detected K uni error' 73710818458006648249995446 45594872483203553605100 3243170398523665496782 2000002999996708477\n"
     ]
    }
   ],
   "source": [
    "reason = read_bytes(debug_data, 0)\n",
    "reason_str = read_bytes(reason, 0)\n",
    "x = read_uint(reason, 1)\n",
    "y = read_uint(reason, 2)\n",
    "borrow_amount = read_uint(reason, 3)\n",
    "amount1 = read_uint(reason, 4)\n",
    "print(reason_str, x, y, borrow_amount, amount1)"
   ]
  },
  {
   "cell_type": "code",
   "execution_count": 128,
   "metadata": {},
   "outputs": [
    {
     "data": {
      "text/plain": [
       "3360835368225379920156776341911766597091882374600"
      ]
     },
     "execution_count": 128,
     "metadata": {},
     "output_type": "execute_result"
    }
   ],
   "source": [
    "k = x*y\n",
    "k"
   ]
  },
  {
   "cell_type": "code",
   "execution_count": 134,
   "metadata": {},
   "outputs": [
    {
     "data": {
      "text/plain": [
       "(3360835368225379920156776334753150288224699406542, 7158616308867182968058)"
      ]
     },
     "execution_count": 134,
     "metadata": {},
     "output_type": "execute_result"
    }
   ],
   "source": [
    "k_new = (y - amount1) * (1000 * x + borrow_amount * 997) // 1000\n",
    "k_new, k - k_new"
   ]
  },
  {
   "cell_type": "code",
   "execution_count": 112,
   "metadata": {},
   "outputs": [
    {
     "data": {
      "text/plain": [
       "1619.9626548777376"
      ]
     },
     "execution_count": 112,
     "metadata": {},
     "output_type": "execute_result"
    }
   ],
   "source": [
    "x / y"
   ]
  },
  {
   "cell_type": "code",
   "execution_count": 115,
   "metadata": {},
   "outputs": [
    {
     "data": {
      "text/plain": [
       "{'currentRatio': 0,\n",
       " 'rebalanceValueUsd': 3254404881162397851057106007,\n",
       " 'ethBorrow': 2000002999731070459,\n",
       " 'valueEth': 999999999864035432,\n",
       " 'ethPrice': 1627200000,\n",
       " 'debtDai': 0,\n",
       " 'daiPrice': 1000780}"
      ]
     },
     "execution_count": 115,
     "metadata": {},
     "output_type": "execute_result"
    }
   ],
   "source": [
    "value_keys = list(map(str.strip, 'currentRatio, rebalanceValueUsd, ethBorrow,  valueEth, ethPrice, debtDai, daiPrice'.split(',')))\n",
    "values = {key: read_uint(message, i) for key, i in zip(value_keys, range(1, 8))}\n",
    "values"
   ]
  },
  {
   "cell_type": "code",
   "execution_count": 118,
   "metadata": {},
   "outputs": [
    {
     "data": {
      "text/plain": [
       "1000.0439119871717"
      ]
     },
     "execution_count": 118,
     "metadata": {},
     "output_type": "execute_result"
    }
   ],
   "source": [
    "(y * 1000) /  (y - values['ethBorrow'])"
   ]
  },
  {
   "cell_type": "code",
   "execution_count": 29,
   "metadata": {},
   "outputs": [
    {
     "data": {
      "text/plain": [
       "(800.0, 100000, 1000.0)"
      ]
     },
     "execution_count": 29,
     "metadata": {},
     "output_type": "execute_result"
    }
   ],
   "source": [
    "x_dai = 10 * 1000\n",
    "y_eth = 10\n",
    "k = x_dai * y_eth\n",
    "f = 0.003\n",
    "\n",
    "p_new = x_dai / y_eth * 0.8\n",
    "p_new, k, x_dai / y_eth"
   ]
  },
  {
   "cell_type": "code",
   "execution_count": 30,
   "metadata": {},
   "outputs": [],
   "source": [
    "import math"
   ]
  },
  {
   "cell_type": "code",
   "execution_count": 35,
   "metadata": {},
   "outputs": [
    {
     "data": {
      "text/plain": [
       "1.1821131979056239"
      ]
     },
     "execution_count": 35,
     "metadata": {},
     "output_type": "execute_result"
    }
   ],
   "source": [
    "a = 1 - f\n",
    "b = y_eth * (2 - f)\n",
    "c = y_eth**2 - k / p_new\n",
    "y_dump = (-b + math.sqrt(b**2 - 4 * a * c)) / (2 * a)\n",
    "y_dump"
   ]
  },
  {
   "cell_type": "code",
   "execution_count": 36,
   "metadata": {},
   "outputs": [
    {
     "data": {
      "text/plain": [
       "1054.3094416754993"
      ]
     },
     "execution_count": 36,
     "metadata": {},
     "output_type": "execute_result"
    }
   ],
   "source": [
    "x_out = x_dai - k / (y_eth + y_dump * (1 - f))\n",
    "x_out"
   ]
  },
  {
   "cell_type": "code",
   "execution_count": 37,
   "metadata": {},
   "outputs": [
    {
     "data": {
      "text/plain": [
       "100031.72445662013"
      ]
     },
     "execution_count": 37,
     "metadata": {},
     "output_type": "execute_result"
    }
   ],
   "source": [
    "x_new = x_dai - x_out\n",
    "y_new = y_eth + y_dump\n",
    "\n",
    "x_new * y_new"
   ]
  },
  {
   "cell_type": "code",
   "execution_count": 38,
   "metadata": {},
   "outputs": [
    {
     "data": {
      "text/plain": [
       "800.0000000000001"
      ]
     },
     "execution_count": 38,
     "metadata": {},
     "output_type": "execute_result"
    }
   ],
   "source": [
    "x_new / y_new"
   ]
  },
  {
   "cell_type": "code",
   "execution_count": null,
   "metadata": {},
   "outputs": [],
   "source": []
  }
 ],
 "metadata": {
  "kernelspec": {
   "display_name": "Python 3",
   "language": "python",
   "name": "python3"
  },
  "language_info": {
   "codemirror_mode": {
    "name": "ipython",
    "version": 3
   },
   "file_extension": ".py",
   "mimetype": "text/x-python",
   "name": "python",
   "nbconvert_exporter": "python",
   "pygments_lexer": "ipython3",
   "version": "3.8.5"
  }
 },
 "nbformat": 4,
 "nbformat_minor": 4
}
